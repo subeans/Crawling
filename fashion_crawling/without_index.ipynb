{
 "cells": [
  {
   "cell_type": "code",
   "execution_count": 3,
   "metadata": {},
   "outputs": [],
   "source": [
    "import os\n",
    "import urllib.request as ur\n",
    "import json"
   ]
  },
  {
   "cell_type": "code",
   "execution_count": 4,
   "metadata": {},
   "outputs": [],
   "source": [
    "crawling_id = 'result_df_goodcase.json'"
   ]
  },
  {
   "cell_type": "code",
   "execution_count": 5,
   "metadata": {},
   "outputs": [],
   "source": [
    "with open(crawling_id) as d:\n",
    "    data = json.load(d)"
   ]
  },
  {
   "cell_type": "code",
   "execution_count": 4,
   "metadata": {},
   "outputs": [],
   "source": [
    "def download(links,ids,categories,errorList):\n",
    "    for i in range(35243,35249):\n",
    "    #for i in range(len(ids)):\n",
    "        url=links[i]\n",
    "        saveId=ids[i]\n",
    "        category=categories[i]\n",
    "        if not os.path.isdir('./img/'+category):\n",
    "            os.mkdir('./img/'+category)\n",
    "        try:\n",
    "            print(url,saveId)\n",
    "            ur.urlretrieve(url,\"./img/\"+category+\"/\"+saveId+\".jpg\")\n",
    "            print(\"Clear\")\n",
    "        except:\n",
    "            info={\"id\":saveId,\"url\":url}\n",
    "            errorList.append(info)\n",
    "            print(\"Error\")"
   ]
  },
  {
   "cell_type": "code",
   "execution_count": 6,
   "metadata": {},
   "outputs": [],
   "source": [
    "ids=[]\n",
    "links=[]\n",
    "errorList=[]\n",
    "categories=[]\n",
    "for i in range(len(data)):\n",
    "    ids.append(data[i].get('id'))\n",
    "    links.append(data[i].get('img_links'))\n",
    "    categories.append(data[i].get('category'))\n"
   ]
  },
  {
   "cell_type": "code",
   "execution_count": 7,
   "metadata": {},
   "outputs": [
    {
     "name": "stdout",
     "output_type": "stream",
     "text": [
      "https://images-na.ssl-images-amazon.com/images/I/91o8crcYQeL._UY445_.jpg B077T3D9JZ\n",
      "Clear\n",
      "https://images-na.ssl-images-amazon.com/images/I/71WVQWLIiWL._UY879_.jpg B01LF0H1KK\n",
      "Clear\n",
      "https://images-na.ssl-images-amazon.com/images/I/81JYNEeWQDL._UX466_.jpg B0743C1PCJ\n",
      "Clear\n",
      "https://images-na.ssl-images-amazon.com/images/I/61HTRgM9O%2BL._UX679_.jpg B002O3RSGK\n",
      "Clear\n",
      "https://images-na.ssl-images-amazon.com/images/I/71bMZEzVIKL._UY606_.jpg B07FYGHMY1\n",
      "Clear\n",
      "https://images-na.ssl-images-amazon.com/images/I/51RhsmSY5DL._UY879_.jpg B01M7S9QBJ\n",
      "Clear\n"
     ]
    }
   ],
   "source": [
    "download(links,ids,categories,errorList)\n",
    "json.dump(errorList,open('./errorList.json','w+'))\n"
   ]
  }
