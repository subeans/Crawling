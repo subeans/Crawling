{
 "cells": [
  {
   "cell_type": "code",
   "execution_count": 1,
   "metadata": {},
   "outputs": [],
   "source": [
    "from serpwow.google_search_results import GoogleSearchResults\n",
    "import json\n",
    "import re\n",
    "from selenium import webdriver\n",
    "from bs4 import BeautifulSoup\n",
    "import urllib.request as ur"
   ]
  },
  {
   "cell_type": "code",
   "execution_count": 2,
   "metadata": {},
   "outputs": [],
   "source": [
    "# create the serpwow object, passing in our API key\n",
    "serpwow = GoogleSearchResults(\"641E1D86067F462E87B0DAE675084374\")\n",
    "\n",
    "# set up a dict for the search parameters\n",
    "params = {\n",
    "  \"q\" : \"철강가격\",\n",
    "  \"time_period\" : \"custom\",\n",
    "  \"time_period_min\" : \"02/01/2020\",\n",
    "  \"time_period_max\" : \"02/29/2020\",\n",
    "  \"search_type\" : \"news\",\n",
    "  \"gl\" : \"kr\",\n",
    "  \"hl\" : \"ko\"\n",
    "}\n",
    "\n",
    "# retrieve the search results as JSON\n",
    "result = serpwow.get_json(params)\n"
   ]
  },
  {
   "cell_type": "code",
   "execution_count": 4,
   "metadata": {},
   "outputs": [
    {
     "name": "stdout",
     "output_type": "stream",
     "text": [
      "한국경제\n",
      "www.hankyung.com\n",
      "비즈니스포스트\n",
      "m.businesspost.co.kr\n",
      "세계파이낸스모바일\n",
      "m.segyefn.com\n",
      "시사위크\n",
      "www.sisaweek.com\n",
      "Money S (보도자료)\n",
      "moneys.mt.co.kr\n",
      "팍스넷뉴스\n",
      "paxnetnews.com\n",
      "비즈니스워치\n",
      "news.bizwatch.co.kr\n",
      "아주경제\n",
      "www.ajunews.com\n",
      "뉴스토마토\n",
      "www.newstomato.com\n",
      "매일경제\n",
      "www.mk.co.kr\n",
      "철강금속신문 (보도자료)\n",
      "www.snmnews.com\n",
      "철강금속신문 (보도자료)\n",
      "www.snmnews.com\n",
      "폴리뉴스\n",
      "www.polinews.co.kr\n",
      "뉴데일리경제\n",
      "biz.newdaily.co.kr\n",
      "철강금속신문 (보도자료)\n",
      "www.snmnews.com\n",
      "ceo스코어데일리 (보도자료)\n",
      "www.ceoscoredaily.com\n",
      "매일경제\n",
      "www.mk.co.kr\n",
      "철강금속신문 (보도자료)\n",
      "www.snmnews.com\n"
     ]
    }
   ],
   "source": [
    "for i in range(len(result['news_results'])):\n",
    "    print(result['news_results'][i]['source'])\n",
    "    print(result['news_results'][i]['domain'])"
   ]
  },
  {
   "cell_type": "code",
   "execution_count": 10,
   "metadata": {},
   "outputs": [],
   "source": [
    "#1페이지 뉴스들 링크 긁어옴 \n",
    "total_links=[]\n",
    "for i in range(len(result['news_results'])):\n",
    "    total_links.append(result['news_results'][i]['link'])"
   ]
  },
  {
   "cell_type": "code",
   "execution_count": 13,
   "metadata": {},
   "outputs": [
    {
     "data": {
      "text/plain": [
       "122"
      ]
     },
     "execution_count": 13,
     "metadata": {},
     "output_type": "execute_result"
    }
   ],
   "source": [
    "len(total_links)"
   ]
  },
  {
   "cell_type": "code",
   "execution_count": 11,
   "metadata": {},
   "outputs": [],
   "source": [
    "def linking(link):\n",
    "    page_links=[]\n",
    "    options = webdriver.ChromeOptions()\n",
    "    driver = webdriver.Chrome('./chromedriver')\n",
    "    driver.get(link)\n",
    "    driver.implicitly_wait(3)\n",
    "    html=driver.page_source\n",
    "    soup=BeautifulSoup(html,'html.parser')\n",
    "    llinks=soup.find_all('a',attrs={'class':'RTNUJf'})\n",
    "    links=soup.find_all('a',attrs = {'class':'l'})\n",
    "    for link in llinks:\n",
    "        total_links.append(link.get('href'))\n",
    "    for link in links:\n",
    "        total_links.append(link.get('href'))\n"
   ]
  },
  {
   "cell_type": "code",
   "execution_count": 12,
   "metadata": {},
   "outputs": [],
   "source": [
    "#나머지 페이지에 있는 뉴스들 크롤링하기위해\n",
    "num=list(result['pagination']['other_pages'].keys())\n",
    "#다음을 빼기위해 \n",
    "num=num[:-1]\n",
    "full_list=list(result['pagination']['other_pages'].values())\n",
    "for i in range(len(full_list)-1):\n",
    "    linking(full_list[i])"
   ]
  },
  {
   "cell_type": "code",
   "execution_count": 23,
   "metadata": {},
   "outputs": [],
   "source": [
    "def getFeature(URL):\n",
    "    options = webdriver.ChromeOptions()\n",
    "    driver = webdriver.Chrome('./chromedriver')\n",
    "    driver.implicitly_wait(1)\n",
    "    \n",
    "    driver.get(URL)\n",
    "    html = driver.page_source\n",
    "    soup = BeautifulSoup(html, 'html.parser')\n",
    "\n",
    "    #articles = soup.select('div.view_con > br').text.strip()\n",
    "    try:\n",
    "        articles=soup.find_all( itemprop=\"articleBody\")\n",
    "        text=\"\"\n",
    "        for arti in articles:\n",
    "            text+=str(arti.text.strip())\n",
    "        if (text==\"\"):\n",
    "            else_.append(URL)\n",
    "            print(URL,\"NONE\")\n",
    "    except:\n",
    "        print(\"###############\")\n",
    "    if (text!=\"\"):\n",
    "        info = {\n",
    "            'url' : URL,\n",
    "             'articles' : re.sub('[\\{\\}\\[\\]\\/?.,;:|\\)*~`!^\\-_+<>@\\#$%&\\\\\\=\\(\\'\\\"]',\n",
    "                          '',text)\n",
    "        }\n",
    "    else:\n",
    "        info=None \n",
    "        \n",
    "    return info"
   ]
  },
  {
   "cell_type": "code",
   "execution_count": 24,
   "metadata": {},
   "outputs": [
    {
     "name": "stdout",
     "output_type": "stream",
     "text": [
      "https://paxnetnews.com/articles/57520 NONE\n",
      "https://www.newstomato.com/ReadNews.aspx?no=954081 NONE\n",
      "https://www.polinews.co.kr/mobile/article.html?no=451434 NONE\n",
      "http://biz.newdaily.co.kr/site/data/html/2020/02/07/2020020700055.html NONE\n",
      "http://www.ceoscoredaily.com/news/article.html?no=66454 NONE\n",
      "http://www.mediapen.com/news/view/502595 NONE\n",
      "https://www.paxetv.com/news/articleView.html?idxno=86588 NONE\n",
      "http://www.mediapen.com/news/view/502900 NONE\n",
      "http://www.mediapen.com/news/view/501686 NONE\n",
      "http://www.busan.com/view/busan/view.php?code=2020022719433976904 NONE\n",
      "https://www.yna.co.kr/view/AKR20200226171600054 NONE\n",
      "https://www.thebell.co.kr/free/Content/ArticleView.asp?key=202002061352186120107359&svccode=03 NONE\n",
      "http://www.newswatch.kr/news/articleView.html?idxno=27254 NONE\n",
      "https://www.yna.co.kr/view/AKR20200206163100003 NONE\n",
      "https://www.yna.co.kr/view/AKR20200203111800030 NONE\n"
     ]
    }
   ],
   "source": [
    "good_list=[]\n",
    "else_=[]\n",
    "for i in range(len(total_links)):\n",
    "    URL=total_links[i]\n",
    "    info=getFeature(URL)\n",
    "    if(info!=None):\n",
    "        good_list.append(info)"
   ]
  },
  {
   "cell_type": "code",
   "execution_count": 25,
   "metadata": {},
   "outputs": [
    {
     "data": {
      "text/plain": [
       "['https://paxnetnews.com/articles/57520',\n",
       " 'https://www.newstomato.com/ReadNews.aspx?no=954081',\n",
       " 'https://www.polinews.co.kr/mobile/article.html?no=451434',\n",
       " 'http://biz.newdaily.co.kr/site/data/html/2020/02/07/2020020700055.html',\n",
       " 'http://www.ceoscoredaily.com/news/article.html?no=66454',\n",
       " 'http://www.mediapen.com/news/view/502595',\n",
       " 'https://www.paxetv.com/news/articleView.html?idxno=86588',\n",
       " 'http://www.mediapen.com/news/view/502900',\n",
       " 'http://www.mediapen.com/news/view/501686',\n",
       " 'http://www.busan.com/view/busan/view.php?code=2020022719433976904',\n",
       " 'https://www.yna.co.kr/view/AKR20200226171600054',\n",
       " 'https://www.thebell.co.kr/free/Content/ArticleView.asp?key=202002061352186120107359&svccode=03',\n",
       " 'http://www.newswatch.kr/news/articleView.html?idxno=27254',\n",
       " 'https://www.yna.co.kr/view/AKR20200206163100003',\n",
       " 'https://www.yna.co.kr/view/AKR20200203111800030']"
      ]
     },
     "execution_count": 25,
     "metadata": {},
     "output_type": "execute_result"
    }
   ],
   "source": [
    "else_"
   ]
  },
  {
   "cell_type": "code",
   "execution_count": 11,
   "metadata": {},
   "outputs": [],
   "source": [
    "json.dump(good_list, open('./철강가격.json', 'w+'),ensure_ascii = False)"
   ]
  },
  {
   "cell_type": "code",
   "execution_count": null,
   "metadata": {},
   "outputs": [],
   "source": []
  }
 ],
 "metadata": {
  "kernelspec": {
   "display_name": "Python 3",
   "language": "python",
   "name": "python3"
  },
  "language_info": {
   "codemirror_mode": {
    "name": "ipython",
    "version": 3
   },
   "file_extension": ".py",
   "mimetype": "text/x-python",
   "name": "python",
   "nbconvert_exporter": "python",
   "pygments_lexer": "ipython3",
   "version": "3.6.5"
  }
 },
 "nbformat": 4,
 "nbformat_minor": 2
}
