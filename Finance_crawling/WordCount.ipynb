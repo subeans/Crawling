{
 "cells": [
  {
   "cell_type": "markdown",
   "metadata": {},
   "source": [
    "형태소 분석기 // 명사추출 및 빈도수 체크 "
   ]
  },
  {
   "cell_type": "code",
   "execution_count": 1,
   "metadata": {},
   "outputs": [],
   "source": [
    "#import sys\n",
    "from konlpy.tag import Twitter     \n",
    "from konlpy.tag import Okt\n",
    "# 명사를 분리/추출하기위한 한국어 형태소분석기 konlpy\n",
    "#여러 품사 태깅 클래스 중 Twitter 사용 ( Kkma,Komoran,Hannaum,Mecab 등 품사태깅 클래스 )\n",
    "from collections import Counter\n",
    "#빈도수 계산을 위해 사전형태의 데이터 타입 , 품사태깅 후 명사만 따로모아 빈도수 계산하기위해\n"
   ]
  },
  {
   "cell_type": "code",
   "execution_count": 2,
   "metadata": {},
   "outputs": [],
   "source": [
    "def get_tags(text, ntags=50): #ntags 는 분리한 명사중 결과를 출력할 명사의 개수 \n",
    "    spliter = Twitter()\n",
    "    nouns = spliter.nouns(text)\n",
    "    count = Counter(nouns)\n",
    "    return_list = []\n",
    "    for n, c in count.most_common(ntags):\n",
    "        temp = {'tag': n, 'count': c}\n",
    "        return_list.append(temp)\n",
    "    return return_list\n",
    " "
   ]
  },
  {
   "cell_type": "code",
   "execution_count": 15,
   "metadata": {},
   "outputs": [],
   "source": [
    "def main(filename,output):\n",
    "    text_file_name = filename\n",
    "    output_file_name = output\n",
    "    open_text_file = open(text_file_name, 'r')\n",
    "    text = open_text_file.read()\n",
    "    tags = get_tags(text)\n",
    "    open_text_file.close()\n",
    "    open_output_file = open(output_file_name, 'w')\n",
    "    for tag in tags:\n",
    "        noun = tag['tag']\n",
    "        count = tag['count']\n",
    "        open_output_file.write('{} {}\\n'.format(noun, count))\n",
    "    open_output_file.close()\n",
    "\n"
   ]
  },
  {
   "cell_type": "code",
   "execution_count": 36,
   "metadata": {},
   "outputs": [],
   "source": [
    "f=\"철강가격.json\"\n",
    "o=\"철강가격wordCount_all.json\"\n",
    "if __name__=='__main__':\n",
    "    #main(f,o)\n",
    "    main2(f,o)"
   ]
  },
  {
   "cell_type": "code",
   "execution_count": 35,
   "metadata": {},
   "outputs": [],
   "source": [
    "#한글자 명사 빼려고\n",
    "def get_tags2(text):\n",
    "    okt=Okt()\n",
    "    noun=okt.nouns(text)\n",
    "    for i,v in enumerate(noun):\n",
    "        if len(v)<2:\n",
    "            noun.pop(i)\n",
    "            \n",
    "    count=Counter(noun)\n",
    "    return_list = []\n",
    "    for n, c in count.most_common(len(count)):\n",
    "        temp = {'tag': n, 'count': c}\n",
    "        if temp['count']>=50:\n",
    "            return_list.append(temp)\n",
    "    return return_list"
   ]
  },
  {
   "cell_type": "code",
   "execution_count": 33,
   "metadata": {},
   "outputs": [],
   "source": [
    "def main2(filename,output):\n",
    "    text_file_name = filename\n",
    "    output_file_name = output\n",
    "    open_text_file = open(text_file_name, 'r')\n",
    "    text = open_text_file.read()\n",
    "    tags = get_tags2(text)\n",
    "    open_text_file.close()\n",
    "    open_output_file = open(output_file_name, 'w')\n",
    "    for tag in tags:\n",
    "        noun = tag['tag']\n",
    "        count = tag['count']\n",
    "        open_output_file.write('{} {}\\n'.format(noun, count))\n",
    "    open_output_file.close()\n",
    "\n"
   ]
  },
  {
   "cell_type": "code",
   "execution_count": null,
   "metadata": {},
   "outputs": [],
   "source": []
  }
 ],
 "metadata": {
  "kernelspec": {
   "display_name": "Python 3",
   "language": "python",
   "name": "python3"
  },
  "language_info": {
   "codemirror_mode": {
    "name": "ipython",
    "version": 3
   },
   "file_extension": ".py",
   "mimetype": "text/x-python",
   "name": "python",
   "nbconvert_exporter": "python",
   "pygments_lexer": "ipython3",
   "version": "3.6.5"
  }
 },
 "nbformat": 4,
 "nbformat_minor": 2
}
